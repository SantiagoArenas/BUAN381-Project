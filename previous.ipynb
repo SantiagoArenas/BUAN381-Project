{
 "cells": [
  {
   "cell_type": "code",
   "execution_count": null,
   "metadata": {},
   "outputs": [],
   "source": [
    "import pandas as pd\n",
    "\n",
    "url = \"https://raw.githubusercontent.com/SantiagoArenas/Portfolio/refs/heads/main/Machine_Learning/austinHousingData.csv\"\n",
    "db = pd.read_csv(url)\n",
    "db.info()"
   ]
  },
  {
   "cell_type": "code",
   "execution_count": null,
   "metadata": {},
   "outputs": [],
   "source": [
    "db.drop(columns=['homeImage', 'zpid', 'streetAddress', 'zipcode', 'description', 'latest_salemonth', 'latest_saleyear'], inplace=True)\n",
    "db.dropna(inplace=True)\n",
    "db.info()"
   ]
  },
  {
   "cell_type": "code",
   "execution_count": null,
   "metadata": {},
   "outputs": [],
   "source": [
    "db['homeType'].value_counts()"
   ]
  },
  {
   "cell_type": "code",
   "execution_count": null,
   "metadata": {},
   "outputs": [],
   "source": [
    "# Keep only top 5 home types and city\n",
    "top_home_types = db['homeType'].value_counts().nlargest(5).index\n",
    "db = db[db['homeType'].isin(top_home_types)]\n",
    "top_cities = db['city'].value_counts().nlargest(5).index\n",
    "db = db[db['city'].isin(top_cities)]\n",
    "db.info()"
   ]
  },
  {
   "cell_type": "code",
   "execution_count": null,
   "metadata": {},
   "outputs": [],
   "source": [
    "#get dummies for city and homeType\n",
    "db = pd.get_dummies(db, columns=['city', 'homeType'], drop_first=False)\n",
    "\n"
   ]
  },
  {
   "cell_type": "code",
   "execution_count": null,
   "metadata": {},
   "outputs": [],
   "source": [
    "db.head()"
   ]
  },
  {
   "cell_type": "code",
   "execution_count": null,
   "metadata": {},
   "outputs": [],
   "source": [
    "# train/test split and save both datasets into csv\n",
    "from sklearn.model_selection import train_test_split\n",
    "train, test = train_test_split(db, test_size=0.2, random_state=42)\n",
    "train.to_csv('train.csv', index=False)\n",
    "test.to_csv('test.csv', index=False)\n",
    "# check the datasets\n",
    "train.info()\n",
    "test.info()\n",
    "# check the datasets\n",
    "train.head()\n",
    "test.head()\n"
   ]
  }
 ],
 "metadata": {
  "kernelspec": {
   "display_name": "Python 3",
   "language": "python",
   "name": "python3"
  },
  "language_info": {
   "codemirror_mode": {
    "name": "ipython",
    "version": 3
   },
   "file_extension": ".py",
   "mimetype": "text/x-python",
   "name": "python",
   "nbconvert_exporter": "python",
   "pygments_lexer": "ipython3",
   "version": "3.1.undefined"
  }
 },
 "nbformat": 4,
 "nbformat_minor": 2
}
